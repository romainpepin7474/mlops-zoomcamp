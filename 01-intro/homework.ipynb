{
 "cells": [
  {
   "cell_type": "code",
   "execution_count": 1,
   "id": "f5f9a6dd-cca2-4ae5-9062-dc3c121a28a3",
   "metadata": {},
   "outputs": [],
   "source": [
    "import pandas as pd"
   ]
  },
  {
   "cell_type": "code",
   "execution_count": 16,
   "id": "f1eea397-cfc4-4b7c-8be0-84c298710822",
   "metadata": {},
   "outputs": [],
   "source": [
    "df_Jan = pd.read_parquet('https://d37ci6vzurychx.cloudfront.net/trip-data/yellow_tripdata_2023-01.parquet')\n",
    "df_Feb = pd.read_parquet('https://d37ci6vzurychx.cloudfront.net/trip-data/yellow_tripdata_2023-02.parquet')"
   ]
  },
  {
   "cell_type": "markdown",
   "id": "9f80a6fb",
   "metadata": {},
   "source": [
    "## Question 1)\n",
    "### Read the data for January. How many columns are there? Answer: 19\n",
    "\n"
   ]
  },
  {
   "cell_type": "code",
   "execution_count": 12,
   "id": "147c1177",
   "metadata": {},
   "outputs": [
    {
     "name": "stdout",
     "output_type": "stream",
     "text": [
      "the number of column is :  19\n",
      "The different column names are: \n",
      "VendorID\n",
      "tpep_pickup_datetime\n",
      "tpep_dropoff_datetime\n",
      "passenger_count\n",
      "trip_distance\n",
      "RatecodeID\n",
      "store_and_fwd_flag\n",
      "PULocationID\n",
      "DOLocationID\n",
      "payment_type\n",
      "fare_amount\n",
      "extra\n",
      "mta_tax\n",
      "tip_amount\n",
      "tolls_amount\n",
      "improvement_surcharge\n",
      "total_amount\n",
      "congestion_surcharge\n",
      "airport_fee\n"
     ]
    }
   ],
   "source": [
    "nb_col =  len(df_Jan.columns)\n",
    "print(\"the number of column is : \", nb_col)\n",
    "print(\"The different column names are: \", *df_Jan.columns, sep='\\n')"
   ]
  },
  {
   "cell_type": "markdown",
   "id": "48b18309",
   "metadata": {},
   "source": [
    "## Q2. Computing duration\n",
    "\n",
    "### Now let's compute the duration variable. It should contain the duration of a ride in minutes.\n",
    "\n",
    "### What's the standard deviation of the trips duration in January? Answer: 42.59 minutes"
   ]
  },
  {
   "cell_type": "code",
   "execution_count": 31,
   "id": "3fb89024",
   "metadata": {},
   "outputs": [],
   "source": [
    "# In order to know the duration of the trip we substract the dropoff time to the pickup time \n",
    "df_Jan[\"duration\"] = df_Jan[\"tpep_dropoff_datetime\"] - df_Jan[\"tpep_pickup_datetime\"]\n",
    "df_Jan['duration'] = df_Jan['duration'].apply(lambda time: time.total_seconds()/60)\n",
    "std_jan = round(df_Jan[\"duration\"].std(), 2)\n",
    "mean_jan = round(df_Jan[\"duration\"].mean(), 2)"
   ]
  },
  {
   "cell_type": "code",
   "execution_count": 33,
   "id": "5bf13ac4",
   "metadata": {},
   "outputs": [
    {
     "name": "stdout",
     "output_type": "stream",
     "text": [
      "The standard deviation of the trips duration in January is:  42.59  minutes\n",
      "The mean of the trips duration in January is:  15.67  minutes\n"
     ]
    }
   ],
   "source": [
    "print(\"The standard deviation of the trips duration in January is: \", std_jan, \" minutes\")\n",
    "print(\"The mean of the trips duration in January is: \", mean_jan, \" minutes\")"
   ]
  },
  {
   "cell_type": "markdown",
   "id": "7c8c2a26",
   "metadata": {},
   "source": [
    "## Q3. Dropping outliers\n",
    "\n",
    "### Next, we need to check the distribution of the duration variable. There are some outliers. Let's remove them and keep only the records where the duration was between 1 and 60 minutes (inclusive). What fraction of the records left after you dropped the outliers? Answer 98%\n",
    "\n"
   ]
  },
  {
   "cell_type": "code",
   "execution_count": 38,
   "id": "df4e81cb",
   "metadata": {},
   "outputs": [
    {
     "name": "stdout",
     "output_type": "stream",
     "text": [
      "There are  98.12 % of data remaining after dropping the outliers\n"
     ]
    }
   ],
   "source": [
    "import datetime\n",
    "df_Jan_filtered = df_Jan[(df_Jan[\"duration\"] <= 60.) & (df_Jan[\"duration\"] >= 1.)]\n",
    "ratio = round(100* (len(df_Jan_filtered)/len(df_Jan)), 2)\n",
    "print(\"There are \", ratio, \"% of data remaining after dropping the outliers\")"
   ]
  },
  {
   "cell_type": "code",
   "execution_count": 40,
   "id": "9a9799ab",
   "metadata": {},
   "outputs": [
    {
     "name": "stdout",
     "output_type": "stream",
     "text": [
      "the upper bout is:  35.075\n",
      "the lower bound is:  -9.658333333333331\n"
     ]
    }
   ],
   "source": [
    "import numpy as np\n",
    "# Alternatively we can use IQR (Inter Quartile Range) to set the upper and lower bound.\n",
    "Q1 = np.percentile(df_Jan[\"duration\"], 25, method='midpoint')\n",
    "Q3 = np.percentile(df_Jan[\"duration\"], 75, method='midpoint')\n",
    "IQR = Q3 - Q1\n",
    "upper = Q3 + 1.5 * IQR\n",
    "lower = Q1 - 1.5 * IQR\n",
    "print(\"the upper bout is: \", upper)\n",
    "print(\"the lower bound is: \", lower)\n"
   ]
  },
  {
   "cell_type": "code",
   "execution_count": null,
   "id": "f34b6a7c",
   "metadata": {},
   "outputs": [],
   "source": [
    "# We obtain a negative lower bound which is non realistic because our studied data is a duration. \n",
    "# The utilisation of the IQR is better to use when the data distribution is \"more\" Gaussian in our\n",
    "# case the standard deviation is so high compare to the mean that  the computation of the lower bound \n",
    "# gives a negative result ( plus the distribution is asymmetric). "
   ]
  },
  {
   "cell_type": "markdown",
   "id": "dc75d61e",
   "metadata": {},
   "source": [
    "## Q4. One-hot encoding\n",
    "\n",
    "Let's apply one-hot encoding to the pickup and dropoff location IDs. We'll use only these two features for our model.\n",
    "Turn the dataframe into a list of dictionaries (remember to re-cast the ids to strings - otherwise it will label encode them)\n",
    "Fit a dictionary vectorizer\n",
    "Get a feature matrix from it\n",
    "What's the dimensionality of this matrix (number of columns)? (3009173, 515)"
   ]
  },
  {
   "cell_type": "code",
   "execution_count": 41,
   "id": "8c50ef00",
   "metadata": {},
   "outputs": [
    {
     "name": "stderr",
     "output_type": "stream",
     "text": [
      "/var/folders/_9/hgg08tyn4tlfzqvx290q7zd00000gn/T/ipykernel_81843/1148397861.py:1: SettingWithCopyWarning: \n",
      "A value is trying to be set on a copy of a slice from a DataFrame.\n",
      "Try using .loc[row_indexer,col_indexer] = value instead\n",
      "\n",
      "See the caveats in the documentation: https://pandas.pydata.org/pandas-docs/stable/user_guide/indexing.html#returning-a-view-versus-a-copy\n",
      "  df_Jan_filtered[[\"PULocationID\",\"DOLocationID\"]] = df_Jan_filtered[[\"PULocationID\",\"DOLocationID\"]].astype(str)\n"
     ]
    }
   ],
   "source": [
    "df_Jan_filtered[[\"PULocationID\",\"DOLocationID\"]] = df_Jan_filtered[[\"PULocationID\",\"DOLocationID\"]].astype(str)"
   ]
  },
  {
   "cell_type": "code",
   "execution_count": 42,
   "id": "4014acfb",
   "metadata": {},
   "outputs": [],
   "source": [
    "from sklearn.feature_extraction import DictVectorizer\n",
    "train_dicts = df_Jan_filtered[[\"PULocationID\",\"DOLocationID\"]].to_dict(orient='records')\n",
    "dv = DictVectorizer()\n",
    "X_train = dv.fit_transform(train_dicts)"
   ]
  },
  {
   "cell_type": "code",
   "execution_count": 49,
   "id": "854a70a9",
   "metadata": {},
   "outputs": [
    {
     "name": "stdout",
     "output_type": "stream",
     "text": [
      "Dict Vectorizer : (3009173, 515)\n"
     ]
    }
   ],
   "source": [
    "print(f'Dict Vectorizer : {X_train.shape}')\n"
   ]
  },
  {
   "cell_type": "markdown",
   "id": "bc6f4bfa",
   "metadata": {},
   "source": [
    "## Q5. Training a model\n",
    "\n",
    "Now let's use the feature matrix from the previous step to train a model.\n",
    "\n",
    "Train a plain linear regression model with default parameters, where duration is the response variable\n",
    "Calculate the RMSE of the model on the training data\n",
    "What's the RMSE on train?"
   ]
  },
  {
   "cell_type": "code",
   "execution_count": 53,
   "id": "31bfae98",
   "metadata": {},
   "outputs": [],
   "source": [
    "from sklearn.linear_model import LinearRegression\n",
    "from sklearn.metrics import mean_squared_error"
   ]
  },
  {
   "cell_type": "code",
   "execution_count": 54,
   "id": "6f40b6ad",
   "metadata": {},
   "outputs": [
    {
     "name": "stdout",
     "output_type": "stream",
     "text": [
      "Train RMSE: 7.649262029221019\n"
     ]
    }
   ],
   "source": [
    "y = df_Jan_filtered[\"duration\"].values\n",
    "model = LinearRegression()\n",
    "reg = model.fit(X_train, y)\n",
    "\n",
    "y_pred = reg.predict(X_train)\n",
    "\n",
    "print(f'Train RMSE: {mean_squared_error(y, y_pred, squared=False)}')\n"
   ]
  },
  {
   "cell_type": "code",
   "execution_count": 55,
   "id": "da5dd375",
   "metadata": {},
   "outputs": [
    {
     "data": {
      "text/plain": [
       "<matplotlib.legend.Legend at 0x314b19ed0>"
      ]
     },
     "execution_count": 55,
     "metadata": {},
     "output_type": "execute_result"
    },
    {
     "data": {
      "image/png": "[encoded data removed]",
      "text/plain": [
       "<Figure size 640x480 with 1 Axes>"
      ]
     },
     "metadata": {},
     "output_type": "display_data"
    }
   ],
   "source": [
    "import seaborn as sns\n",
    "import matplotlib.pyplot as plt\n",
    "\n",
    "sns.histplot(y_pred, label='prediction',color=\"green\")\n",
    "sns.histplot(y, label='actual')\n",
    "\n",
    "plt.legend()\n"
   ]
  },
  {
   "cell_type": "code",
   "execution_count": 57,
   "id": "6bc89c64",
   "metadata": {},
   "outputs": [
    {
     "data": {
      "text/plain": [
       "numpy.ndarray"
      ]
     },
     "execution_count": 57,
     "metadata": {},
     "output_type": "execute_result"
    }
   ],
   "source": [
    "rest = y - y_pred\n",
    "type(rest)"
   ]
  },
  {
   "cell_type": "code",
   "execution_count": null,
   "id": "d83fd3b9",
   "metadata": {},
   "outputs": [],
   "source": []
  }
 ],
 "metadata": {
  "kernelspec": {
   "display_name": "Python 3 (ipykernel)",
   "language": "python",
   "name": "python3"
  },
  "language_info": {
   "codemirror_mode": {
    "name": "ipython",
    "version": 3
   },
   "file_extension": ".py",
   "mimetype": "text/x-python",
   "name": "python",
   "nbconvert_exporter": "python",
   "pygments_lexer": "ipython3",
   "version": "3.11.6"
  }
 },
 "nbformat": 4,
 "nbformat_minor": 5
}
